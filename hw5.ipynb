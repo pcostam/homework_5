{
  "nbformat": 4,
  "nbformat_minor": 0,
  "metadata": {
    "colab": {
      "name": "hw5.ipynb",
      "version": "0.3.2",
      "provenance": [],
      "collapsed_sections": []
    },
    "language_info": {
      "codemirror_mode": {
        "name": "ipython",
        "version": 3
      },
      "file_extension": ".py",
      "mimetype": "text/x-python",
      "name": "python",
      "nbconvert_exporter": "python",
      "pygments_lexer": "ipython3",
      "version": "3.6.3"
    },
    "kernelspec": {
      "name": "python3",
      "display_name": "Python 3"
    },
    "accelerator": "GPU"
  },
  "cells": [
    {
      "cell_type": "code",
      "metadata": {
        "colab_type": "code",
        "id": "Kgg-9vpctPaW",
        "outputId": "bd9e4510-9b6c-4f71-a891-c4f49cfe1808",
        "colab": {
          "base_uri": "https://localhost:8080/",
          "height": 153
        }
      },
      "source": [
        "!git clone https://github.com/Miamoto/fruit-classifier"
      ],
      "execution_count": 1,
      "outputs": [
        {
          "output_type": "stream",
          "text": [
            "Cloning into 'fruit-classifier'...\n",
            "remote: Enumerating objects: 14530, done.\u001b[K\n",
            "remote: Counting objects: 100% (14530/14530), done.\u001b[K\n",
            "remote: Compressing objects: 100% (14523/14523), done.\u001b[K\n",
            "remote: Total 14530 (delta 16), reused 14490 (delta 5), pack-reused 0\n",
            "Receiving objects: 100% (14530/14530), 63.11 MiB | 13.20 MiB/s, done.\n",
            "Resolving deltas: 100% (16/16), done.\n",
            "Checking out files: 100% (14422/14422), done.\n"
          ],
          "name": "stdout"
        }
      ]
    },
    {
      "cell_type": "code",
      "metadata": {
        "colab_type": "code",
        "id": "iLTrdE4BqF65",
        "outputId": "fd316275-b46f-4e23-c9cb-4dfbcc19b2ba",
        "scrolled": false,
        "colab": {
          "base_uri": "https://localhost:8080/",
          "height": 34
        }
      },
      "source": [
        "# -*- coding: utf-8 -*-\n",
        "\"\"\"\n",
        "Created on Thu May 23 11:07:57 2019\n",
        "\n",
        "@author: anama\n",
        "\"\"\"\n",
        "\n",
        "\n",
        "import os\n",
        "import cv2\n",
        "import math\n",
        "import keras\n",
        "import random\n",
        "import numpy as np\n",
        "import pandas as pd # data processing, CSV file I/O (e.g. pd.read_csv)\n",
        "import matplotlib.pyplot as plt\n",
        "\n",
        "from PIL import Image\n",
        "from IPython.display import display\n",
        "\n",
        "from keras import regularizers\n",
        "from keras.applications import imagenet_utils\n",
        "from keras.applications.mobilenet import MobileNet\n",
        "from keras.models import Model\n",
        "from keras.layers import Input, Dense, GlobalAveragePooling2D, LeakyReLU, Dense, Activation, Dropout\n",
        "from keras.optimizers import Adam, SGD\n",
        "from keras.preprocessing.image import ImageDataGenerator\n",
        "from keras.utils import to_categorical\n",
        "\n",
        "\n",
        "train_data_dir = \"fruit-classifier/dataset/Training\"\n",
        "test_data_dir = \"fruit-classifier/dataset/Test\"\n",
        "weights_filename = \"weights.hdf5\"\n",
        "\n",
        "\n",
        "list_apples = ['Apple Crimson Snow','Apple Golden 1', 'Apple Golden 2', 'Apple Golden 3',\n",
        "               'Apple Granny Smith', 'Apple Red 1','Apple Red 2', 'Apple Red 3',\n",
        "               'Apple Red Delicious', 'Apple Red Yellow 1', 'Apple Red Yellow 2']\n",
        "list_lemons = ['Lemon', 'Lemon Meyer']\n",
        "list_pears  = ['Pear Abate', 'Pear Kaiser', 'Pear Monster', 'Pear Red','Pear Williams']\n",
        "\n",
        "\n",
        "def process_images(lst, root_dir):\n",
        "  \"\"\"\n",
        "  Fetch all the image path names in the subfolders of root_dir.\n",
        "  \"\"\"\n",
        "  res = []\n",
        "  for obj in lst:\n",
        "    data_dir = root_dir + '/'+ obj\n",
        "    for filename in os.listdir(data_dir):\n",
        "      res.append(data_dir + \"/\" + filename)\n",
        "  return res\n",
        "\n",
        "\n",
        "def process_dataset(data_set):\n",
        "  \"\"\"\n",
        "  Fetch and process all images in data_set to be used by the neural net.\n",
        "  \"\"\"\n",
        "  # default image size\n",
        "  img_height = 100\n",
        "  img_width  = 100\n",
        "  \n",
        "  X = list()\n",
        "  y = list()\n",
        "  \n",
        "  for img_path in data_set:\n",
        "    X.append(cv2.resize(cv2.imread(img_path, cv2.IMREAD_COLOR)[:,:,::-1], dsize=(img_height, img_width),\n",
        "                      interpolation=cv2.INTER_CUBIC)) #read the image\n",
        "    if 'Apple' in img_path:\n",
        "      y.append(0)\n",
        "    elif 'Orange' in img_path:\n",
        "      y.append(1)\n",
        "    elif 'Lemon' in img_path:\n",
        "      y.append(2)\n",
        "    elif 'Pear' in img_path:\n",
        "      y.append(3)\n",
        "  \n",
        "  return np.array(X), to_categorical(np.array(y))"
      ],
      "execution_count": 2,
      "outputs": [
        {
          "output_type": "stream",
          "text": [
            "Using TensorFlow backend.\n"
          ],
          "name": "stderr"
        }
      ]
    },
    {
      "cell_type": "code",
      "metadata": {
        "id": "zKVuJfiTeHpZ",
        "colab_type": "code",
        "colab": {
          "base_uri": "https://localhost:8080/",
          "height": 88
        },
        "outputId": "825515ed-3bf6-4c7b-c1e7-6da365dbd07f"
      },
      "source": [
        "\"\"\" Load Training Data set \"\"\"\n",
        "\n",
        "train_set = []\n",
        "train_set += process_images(list_apples,train_data_dir)\n",
        "train_set += process_images(['Orange'], train_data_dir)\n",
        "train_set += process_images(list_lemons, train_data_dir)\n",
        "train_set += process_images(list_pears, train_data_dir)\n",
        "random.shuffle(train_set)\n",
        "\n",
        "X, y = process_dataset(train_set)\n",
        "\n",
        "print(\"Training Set X-Shape: \" + str(X.shape))\n",
        "print(\"Training Set y-Shape: \" + str(y.shape))\n",
        "\n",
        "\n",
        "\"\"\"\n",
        "#30% validation set, 70% training set\n",
        "X_train, X_val, y_train, y_val = train_test_split(X, y, test_size=0.30, random_state=2)\n",
        "\n",
        "print(\"y_train\", y_train)\n",
        "print(\"Shape of train images is:\", X_train.shape)\n",
        "print(\"Shape of validation image\", X_val.shape)\n",
        "print(\"Shape of labels is:\", y_train.shape)\n",
        "print(\"Shape of label\", y_val.shape)\n",
        "\n",
        "y_train = to_categorical(y_train)\n",
        "y_val = to_categorical(y_val)\n",
        "\n",
        "train_generator = train_datagen.flow(X_train, y_train,batch_size=nb_batch_size)\n",
        "validation_generator = train_datagen.flow(X_val, y_val, batch_size=nb_batch_size)\n",
        "\n",
        "train_datagen = ImageDataGenerator(preprocessing_function=keras.applications.mobilenet.preprocess_input) \n",
        "\"\"\""
      ],
      "execution_count": 9,
      "outputs": [
        {
          "output_type": "stream",
          "text": [
            "Training Set X-Shape: (9365, 100, 100, 3)\n",
            "Training Set y-Shape: (9365, 4)\n"
          ],
          "name": "stdout"
        },
        {
          "output_type": "execute_result",
          "data": {
            "text/plain": [
              "'\\n#30% validation set, 70% training set\\nX_train, X_val, y_train, y_val = train_test_split(X, y, test_size=0.30, random_state=2)\\n\\nprint(\"y_train\", y_train)\\nprint(\"Shape of train images is:\", X_train.shape)\\nprint(\"Shape of validation image\", X_val.shape)\\nprint(\"Shape of labels is:\", y_train.shape)\\nprint(\"Shape of label\", y_val.shape)\\n\\ny_train = to_categorical(y_train)\\ny_val = to_categorical(y_val)\\n\\ntrain_generator = train_datagen.flow(X_train, y_train,batch_size=nb_batch_size)\\nvalidation_generator = train_datagen.flow(X_val, y_val, batch_size=nb_batch_size)\\n\\ntrain_datagen = ImageDataGenerator(preprocessing_function=keras.applications.mobilenet.preprocess_input) \\n'"
            ]
          },
          "metadata": {
            "tags": []
          },
          "execution_count": 9
        }
      ]
    },
    {
      "cell_type": "code",
      "metadata": {
        "id": "AqiHWeFHer0N",
        "colab_type": "code",
        "colab": {
          "base_uri": "https://localhost:8080/",
          "height": 51
        },
        "outputId": "b948f103-8571-4e4a-fd89-9d9eea0c703b"
      },
      "source": [
        "\"\"\" Load Testing Data set \"\"\"\n",
        "\n",
        "test_set = []\n",
        "test_set += process_images(list_apples,test_data_dir)\n",
        "test_set += process_images(['Orange'], test_data_dir)\n",
        "test_set += process_images(list_lemons, test_data_dir)\n",
        "test_set += process_images(list_pears, test_data_dir)\n",
        "random.shuffle(test_set)\n",
        "\n",
        "X_test, y_test = process_dataset(test_set)\n",
        "\n",
        "print(\"Testing Set X-Shape: \" + str(X_test.shape))\n",
        "print(\"Testing Set y-Shape: \" + str(y_test.shape))\n",
        "\n",
        "test_datagen = ImageDataGenerator(preprocessing_function=keras.applications.mobilenet.preprocess_input)"
      ],
      "execution_count": 4,
      "outputs": [
        {
          "output_type": "stream",
          "text": [
            "Testing Set X-Shape: (3134, 100, 100, 3)\n",
            "Testing Set y-Shape: (3134, 4)\n"
          ],
          "name": "stdout"
        }
      ]
    },
    {
      "cell_type": "code",
      "metadata": {
        "id": "b6Tdx4qvggW1",
        "colab_type": "code",
        "colab": {
          "base_uri": "https://localhost:8080/",
          "height": 190
        },
        "outputId": "06edd8ae-2a4a-4dc8-9f05-91e659e71b7e"
      },
      "source": [
        "\"\"\" Build the Neural Net \"\"\"\n",
        "\n",
        "base_model = MobileNet(weights='imagenet', include_top=False) # import the mobilenet model and discard the last 1000 neuron layers.\n",
        "\n",
        "x = base_model.output\n",
        "x = GlobalAveragePooling2D()(x)\n",
        "x = Dense(32, activation='relu', kernel_regularizer=regularizers.l2(0.01), use_bias=True)(x) # we add dense layers so that the model can learn more complex functions\n",
        "\n",
        "# These layers were removed to reduce the complexity of the network.\n",
        "# x = LeakyReLU(alpha=0.5)(x)\n",
        "# x = Dense(32,activation='relu')(x) # dense layer 2\n",
        "# x = Dense(32,activation='relu')(x) # dense layer 3\n",
        "\n",
        "predictions = Dense(4, activation='softmax')(x)\n",
        "model = Model(inputs=base_model.input, outputs=predictions)\n",
        "\n",
        "# set the base model layers to not be trainable\n",
        "for layer in base_model.layers:\n",
        "  layer.trainable = False\n",
        "\n",
        "trainable_count = 0\n",
        "for layer in model.layers:\n",
        "  if layer.trainable:\n",
        "    trainable_count += 1\n",
        "\n",
        "print(\"# Trainable Layers = \" + str(trainable_count))\n",
        "print(\"# Untrainable Layers = \" + str(len(model.layers)-trainable_count))\n",
        "# print(model.summary())"
      ],
      "execution_count": 5,
      "outputs": [
        {
          "output_type": "stream",
          "text": [
            "WARNING:tensorflow:From /usr/local/lib/python3.6/dist-packages/tensorflow/python/framework/op_def_library.py:263: colocate_with (from tensorflow.python.framework.ops) is deprecated and will be removed in a future version.\n",
            "Instructions for updating:\n",
            "Colocations handled automatically by placer.\n"
          ],
          "name": "stdout"
        },
        {
          "output_type": "stream",
          "text": [
            "/usr/local/lib/python3.6/dist-packages/keras_applications/mobilenet.py:208: UserWarning: MobileNet shape is undefined. Weights for input shape (224, 224) will be loaded.\n",
            "  warnings.warn('MobileNet shape is undefined.'\n"
          ],
          "name": "stderr"
        },
        {
          "output_type": "stream",
          "text": [
            "Downloading data from https://github.com/fchollet/deep-learning-models/releases/download/v0.6/mobilenet_1_0_224_tf_no_top.h5\n",
            "17227776/17225924 [==============================] - 3s 0us/step\n",
            "# Trainable Layers = 3\n",
            "# Untrainable Layers = 87\n"
          ],
          "name": "stdout"
        }
      ]
    },
    {
      "cell_type": "code",
      "metadata": {
        "colab_type": "code",
        "id": "I0384tZwtJUY",
        "colab": {
          "base_uri": "https://localhost:8080/",
          "height": 241
        },
        "outputId": "0002ff76-d265-4f00-f607-b447adb34d09"
      },
      "source": [
        "\"\"\" Compile and Train the Neural Network \"\"\"\n",
        "\n",
        "nb_epochs = 5\n",
        "nb_batch_size = 128\n",
        "\n",
        "\n",
        "# compile the model\n",
        "model.compile(SGD(lr=0.001), loss='categorical_crossentropy', metrics=['accuracy'])\n",
        "history = model.fit(X, y, validation_split=0.1, batch_size=nb_batch_size, epochs=nb_epochs)\n",
        "\n",
        "\"\"\"\n",
        "nb_steps_per_epoch = math.floor(X_train.shape[0]/nb_batch_size)\n",
        "nb_validation_steps = math.floor(X_val.shape[0]/nb_batch_size)\n",
        "print(nb_steps_per_epoch)\n",
        "history = model.fit_generator(train_generator, steps_per_epoch=4, validation_data = validation_generator, validation_steps=2, epochs=50, verbose=2)\n",
        "\"\"\""
      ],
      "execution_count": 10,
      "outputs": [
        {
          "output_type": "stream",
          "text": [
            "Train on 8428 samples, validate on 937 samples\n",
            "Epoch 1/5\n",
            "8428/8428 [==============================] - 6s 726us/step - loss: 0.9091 - acc: 0.9128 - val_loss: 2.3187 - val_acc: 0.5635\n",
            "Epoch 2/5\n",
            "8428/8428 [==============================] - 5s 607us/step - loss: 0.8704 - acc: 0.9258 - val_loss: 2.3431 - val_acc: 0.5582\n",
            "Epoch 3/5\n",
            "8428/8428 [==============================] - 5s 607us/step - loss: 0.8392 - acc: 0.9365 - val_loss: 2.3661 - val_acc: 0.5582\n",
            "Epoch 4/5\n",
            "8428/8428 [==============================] - 5s 605us/step - loss: 0.8107 - acc: 0.9423 - val_loss: 2.4087 - val_acc: 0.5571\n",
            "Epoch 5/5\n",
            "8428/8428 [==============================] - 5s 608us/step - loss: 0.7923 - acc: 0.9485 - val_loss: 2.4301 - val_acc: 0.5550\n"
          ],
          "name": "stdout"
        },
        {
          "output_type": "execute_result",
          "data": {
            "text/plain": [
              "'\\nnb_steps_per_epoch = math.floor(X_train.shape[0]/nb_batch_size)\\nnb_validation_steps = math.floor(X_val.shape[0]/nb_batch_size)\\nprint(nb_steps_per_epoch)\\nhistory = model.fit_generator(train_generator, steps_per_epoch=4, validation_data = validation_generator, validation_steps=2, epochs=50, verbose=2)\\n'"
            ]
          },
          "metadata": {
            "tags": []
          },
          "execution_count": 10
        }
      ]
    },
    {
      "cell_type": "code",
      "metadata": {
        "colab_type": "code",
        "id": "l6g5EZEwqF7C",
        "outputId": "854c1c68-e0b4-4145-8329-7f3f59424179",
        "colab": {
          "base_uri": "https://localhost:8080/",
          "height": 549
        }
      },
      "source": [
        "\"\"\" Accuracy and Loss Plots \"\"\"\n",
        "\n",
        "acc = history.history['acc']\n",
        "loss = history.history['loss']\n",
        "\n",
        "val_acc = history.history['val_acc']\n",
        "val_loss = history.history['val_loss']\n",
        "\n",
        "epochs = range(1, len(acc) + 1)\n",
        "\n",
        "\n",
        "plt.plot(epochs, acc, 'b', label='Training')\n",
        "plt.plot(epochs, val_acc, 'r', label='Validation')\n",
        "plt.xticks(epochs)\n",
        "plt.xlabel('Epoch')\n",
        "plt.ylabel('Accuracy')\n",
        "plt.legend()\n",
        "\n",
        "plt.figure()\n",
        "plt.plot(epochs, loss, 'b', label='Training')\n",
        "plt.plot(epochs, val_loss, 'r', label='Variation')\n",
        "plt.xticks(epochs)\n",
        "plt.xlabel('Epoch')\n",
        "plt.ylabel('Loss')\n",
        "plt.legend()\n",
        "plt.show()"
      ],
      "execution_count": 7,
      "outputs": [
        {
          "output_type": "display_data",
          "data": {
            "image/png": "[encoded data removed]",
            "text/plain": [
              "<Figure size 432x288 with 1 Axes>"
            ]
          },
          "metadata": {
            "tags": []
          }
        },
        {
          "output_type": "display_data",
          "data": {
            "image/png": "[encoded data removed]",
            "text/plain": [
              "<Figure size 432x288 with 1 Axes>"
            ]
          },
          "metadata": {
            "tags": []
          }
        }
      ]
    },
    {
      "cell_type": "code",
      "metadata": {
        "colab_type": "code",
        "id": "blA8XNeLqF7K",
        "outputId": "41b2d937-b8e5-4538-9651-0e27510514f6",
        "colab": {
          "base_uri": "https://localhost:8080/",
          "height": 34
        }
      },
      "source": [
        "\"\"\" Compute accuracy for Test set using model prediction \"\"\"\n",
        "y_pred = model.predict(X_test)\n",
        "\n",
        "correct_count = 0\n",
        "for i in range(len(y_pred)):\n",
        "  index = np.argmax(y_pred[i])\n",
        "  if y_test[i][index] == 1:\n",
        "    correct_count += 1\n",
        "    \n",
        "print(\"Accuracy = \" + str(correct_count / len(y_pred)))"
      ],
      "execution_count": 8,
      "outputs": [
        {
          "output_type": "stream",
          "text": [
            "Accuracy = 0.5813656668793874\n"
          ],
          "name": "stdout"
        }
      ]
    },
    {
      "cell_type": "code",
      "metadata": {
        "colab_type": "code",
        "id": "P9YOgi7TYiYz",
        "colab": {}
      },
      "source": [
        ""
      ],
      "execution_count": 0,
      "outputs": []
    }
  ]
}